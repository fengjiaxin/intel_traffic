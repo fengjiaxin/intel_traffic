{
 "cells": [
  {
   "cell_type": "code",
   "execution_count": 35,
   "metadata": {},
   "outputs": [],
   "source": [
    "import pandas as pd\n",
    "import matplotlib.pyplot as plt\n",
    "import numpy as np\n",
    "pd.options.display.float_format = '{:,.2f}'.format\n",
    "pd.set_option('display.max_rows', 20)\n",
    "pd.set_option('display.max_columns', 500)\n",
    "pd.set_option('display.width', 1000)"
   ]
  },
  {
   "cell_type": "markdown",
   "metadata": {},
   "source": [
    "## 1.数据说明"
   ]
  },
  {
   "cell_type": "code",
   "execution_count": 18,
   "metadata": {},
   "outputs": [],
   "source": [
    "link_info_path = '../data/gy_link_info.txt'\n",
    "link_top_path = '../data/gy_link_top.txt'\n",
    "#link_travel_time_part1_path = '../data/gy_link_travel_time_part1.txt'\n",
    "#link_travel_time_part2_path = '../data/gy_link_travel_time_part2.txt'\n",
    "link_travel_time_part3_path = '../data/gy_link_travel_time_part3.txt'"
   ]
  },
  {
   "cell_type": "code",
   "execution_count": 19,
   "metadata": {},
   "outputs": [
    {
     "data": {
      "text/html": [
       "<div>\n",
       "<style scoped>\n",
       "    .dataframe tbody tr th:only-of-type {\n",
       "        vertical-align: middle;\n",
       "    }\n",
       "\n",
       "    .dataframe tbody tr th {\n",
       "        vertical-align: top;\n",
       "    }\n",
       "\n",
       "    .dataframe thead th {\n",
       "        text-align: right;\n",
       "    }\n",
       "</style>\n",
       "<table border=\"1\" class=\"dataframe\">\n",
       "  <thead>\n",
       "    <tr style=\"text-align: right;\">\n",
       "      <th></th>\n",
       "      <th>link_ID</th>\n",
       "      <th>length</th>\n",
       "      <th>width</th>\n",
       "      <th>link_class</th>\n",
       "    </tr>\n",
       "  </thead>\n",
       "  <tbody>\n",
       "    <tr>\n",
       "      <th>0</th>\n",
       "      <td>4377906289869500514</td>\n",
       "      <td>57</td>\n",
       "      <td>3</td>\n",
       "      <td>1</td>\n",
       "    </tr>\n",
       "    <tr>\n",
       "      <th>1</th>\n",
       "      <td>4377906284594800514</td>\n",
       "      <td>247</td>\n",
       "      <td>9</td>\n",
       "      <td>1</td>\n",
       "    </tr>\n",
       "    <tr>\n",
       "      <th>2</th>\n",
       "      <td>4377906289425800514</td>\n",
       "      <td>194</td>\n",
       "      <td>3</td>\n",
       "      <td>1</td>\n",
       "    </tr>\n",
       "    <tr>\n",
       "      <th>3</th>\n",
       "      <td>4377906284525800514</td>\n",
       "      <td>839</td>\n",
       "      <td>3</td>\n",
       "      <td>1</td>\n",
       "    </tr>\n",
       "    <tr>\n",
       "      <th>4</th>\n",
       "      <td>4377906284422600514</td>\n",
       "      <td>55</td>\n",
       "      <td>12</td>\n",
       "      <td>1</td>\n",
       "    </tr>\n",
       "  </tbody>\n",
       "</table>\n",
       "</div>"
      ],
      "text/plain": [
       "               link_ID  length  width  link_class\n",
       "0  4377906289869500514      57      3           1\n",
       "1  4377906284594800514     247      9           1\n",
       "2  4377906289425800514     194      3           1\n",
       "3  4377906284525800514     839      3           1\n",
       "4  4377906284422600514      55     12           1"
      ]
     },
     "execution_count": 19,
     "metadata": {},
     "output_type": "execute_result"
    }
   ],
   "source": [
    "# 道路的基本信息\n",
    "link_infos = pd.read_csv(link_info_path,delimiter=';',dtype={'link_ID':object})\n",
    "link_infos.head()"
   ]
  },
  {
   "cell_type": "code",
   "execution_count": 20,
   "metadata": {},
   "outputs": [
    {
     "data": {
      "text/plain": [
       "132"
      ]
     },
     "execution_count": 20,
     "metadata": {},
     "output_type": "execute_result"
    }
   ],
   "source": [
    "len(link_infos)"
   ]
  },
  {
   "cell_type": "markdown",
   "metadata": {},
   "source": [
    "### link_info表中存储的是每天路的id,长度，宽度，类型，一共有132条路"
   ]
  },
  {
   "cell_type": "code",
   "execution_count": 21,
   "metadata": {},
   "outputs": [
    {
     "data": {
      "text/html": [
       "<div>\n",
       "<style scoped>\n",
       "    .dataframe tbody tr th:only-of-type {\n",
       "        vertical-align: middle;\n",
       "    }\n",
       "\n",
       "    .dataframe tbody tr th {\n",
       "        vertical-align: top;\n",
       "    }\n",
       "\n",
       "    .dataframe thead th {\n",
       "        text-align: right;\n",
       "    }\n",
       "</style>\n",
       "<table border=\"1\" class=\"dataframe\">\n",
       "  <thead>\n",
       "    <tr style=\"text-align: right;\">\n",
       "      <th></th>\n",
       "      <th>link_ID</th>\n",
       "      <th>in_links</th>\n",
       "      <th>out_links</th>\n",
       "    </tr>\n",
       "  </thead>\n",
       "  <tbody>\n",
       "    <tr>\n",
       "      <th>0</th>\n",
       "      <td>4377906289869500514</td>\n",
       "      <td>4377906285525800514</td>\n",
       "      <td>4377906281969500514</td>\n",
       "    </tr>\n",
       "    <tr>\n",
       "      <th>1</th>\n",
       "      <td>4377906284594800514</td>\n",
       "      <td>4377906284514600514</td>\n",
       "      <td>4377906285594800514</td>\n",
       "    </tr>\n",
       "    <tr>\n",
       "      <th>2</th>\n",
       "      <td>4377906289425800514</td>\n",
       "      <td>NaN</td>\n",
       "      <td>4377906284653600514</td>\n",
       "    </tr>\n",
       "    <tr>\n",
       "      <th>3</th>\n",
       "      <td>4377906284525800514</td>\n",
       "      <td>4377906281234600514</td>\n",
       "      <td>4377906280334600514</td>\n",
       "    </tr>\n",
       "    <tr>\n",
       "      <th>4</th>\n",
       "      <td>4377906284422600514</td>\n",
       "      <td>3377906289434510514#4377906287959500514</td>\n",
       "      <td>4377906283422600514</td>\n",
       "    </tr>\n",
       "  </tbody>\n",
       "</table>\n",
       "</div>"
      ],
      "text/plain": [
       "               link_ID                                 in_links  \\\n",
       "0  4377906289869500514                      4377906285525800514   \n",
       "1  4377906284594800514                      4377906284514600514   \n",
       "2  4377906289425800514                                      NaN   \n",
       "3  4377906284525800514                      4377906281234600514   \n",
       "4  4377906284422600514  3377906289434510514#4377906287959500514   \n",
       "\n",
       "             out_links  \n",
       "0  4377906281969500514  \n",
       "1  4377906285594800514  \n",
       "2  4377906284653600514  \n",
       "3  4377906280334600514  \n",
       "4  4377906283422600514  "
      ]
     },
     "execution_count": 21,
     "metadata": {},
     "output_type": "execute_result"
    }
   ],
   "source": [
    "# 每条路的上下游关系\n",
    "link_tops = pd.read_csv(link_top_path,delimiter=';',dtype={'link_ID':object})\n",
    "link_tops.head()"
   ]
  },
  {
   "cell_type": "markdown",
   "metadata": {},
   "source": [
    "### link_tops表存储的是每一条路的上下游关系，中间用#分割"
   ]
  },
  {
   "cell_type": "code",
   "execution_count": 22,
   "metadata": {},
   "outputs": [],
   "source": [
    "# 训练数据\n",
    "#df_1 = pd.read_csv(link_travel_time_part1_path,delimiter=';',dtype={'link_ID':object})\n",
    "#df_1.head()\n",
    "# 可以看出df_1的数据日期区间是从2016-03-01 到 2016-06-30\n",
    "# 可以看出df_2的数据日期区间是从2017-03-01 到 2017-06-30"
   ]
  },
  {
   "cell_type": "code",
   "execution_count": 23,
   "metadata": {},
   "outputs": [],
   "source": [
    "#df_2 = pd.read_csv(link_travel_time_part2_path,delimiter=';',dtype={'link_ID':object})\n",
    "df_3 = pd.read_csv(link_travel_time_part3_path,delimiter=';',dtype={'link_ID':object})\n",
    "# 2016.4到6月每天的信息, 还有2017.7月每天6:00-8:00, 13:00-15:00, 16:00-18:00的记录"
   ]
  },
  {
   "cell_type": "code",
   "execution_count": 24,
   "metadata": {},
   "outputs": [
    {
     "data": {
      "text/html": [
       "<div>\n",
       "<style scoped>\n",
       "    .dataframe tbody tr th:only-of-type {\n",
       "        vertical-align: middle;\n",
       "    }\n",
       "\n",
       "    .dataframe tbody tr th {\n",
       "        vertical-align: top;\n",
       "    }\n",
       "\n",
       "    .dataframe thead th {\n",
       "        text-align: right;\n",
       "    }\n",
       "</style>\n",
       "<table border=\"1\" class=\"dataframe\">\n",
       "  <thead>\n",
       "    <tr style=\"text-align: right;\">\n",
       "      <th></th>\n",
       "      <th>link_ID</th>\n",
       "      <th>date</th>\n",
       "      <th>time_interval</th>\n",
       "      <th>travel_time</th>\n",
       "    </tr>\n",
       "  </thead>\n",
       "  <tbody>\n",
       "    <tr>\n",
       "      <th>0</th>\n",
       "      <td>4377906283422600514</td>\n",
       "      <td>2017-05-06</td>\n",
       "      <td>[2017-05-06 11:04:00,2017-05-06 11:06:00)</td>\n",
       "      <td>3.0</td>\n",
       "    </tr>\n",
       "    <tr>\n",
       "      <th>1</th>\n",
       "      <td>3377906289434510514</td>\n",
       "      <td>2017-05-06</td>\n",
       "      <td>[2017-05-06 10:42:00,2017-05-06 10:44:00)</td>\n",
       "      <td>1.0</td>\n",
       "    </tr>\n",
       "    <tr>\n",
       "      <th>2</th>\n",
       "      <td>3377906285934510514</td>\n",
       "      <td>2017-05-06</td>\n",
       "      <td>[2017-05-06 11:56:00,2017-05-06 11:58:00)</td>\n",
       "      <td>35.2</td>\n",
       "    </tr>\n",
       "    <tr>\n",
       "      <th>3</th>\n",
       "      <td>3377906285934510514</td>\n",
       "      <td>2017-05-06</td>\n",
       "      <td>[2017-05-06 17:46:00,2017-05-06 17:48:00)</td>\n",
       "      <td>26.2</td>\n",
       "    </tr>\n",
       "    <tr>\n",
       "      <th>4</th>\n",
       "      <td>3377906287934510514</td>\n",
       "      <td>2017-05-06</td>\n",
       "      <td>[2017-05-06 10:52:00,2017-05-06 10:54:00)</td>\n",
       "      <td>10.4</td>\n",
       "    </tr>\n",
       "  </tbody>\n",
       "</table>\n",
       "</div>"
      ],
      "text/plain": [
       "               link_ID        date                              time_interval  \\\n",
       "0  4377906283422600514  2017-05-06  [2017-05-06 11:04:00,2017-05-06 11:06:00)   \n",
       "1  3377906289434510514  2017-05-06  [2017-05-06 10:42:00,2017-05-06 10:44:00)   \n",
       "2  3377906285934510514  2017-05-06  [2017-05-06 11:56:00,2017-05-06 11:58:00)   \n",
       "3  3377906285934510514  2017-05-06  [2017-05-06 17:46:00,2017-05-06 17:48:00)   \n",
       "4  3377906287934510514  2017-05-06  [2017-05-06 10:52:00,2017-05-06 10:54:00)   \n",
       "\n",
       "   travel_time  \n",
       "0          3.0  \n",
       "1          1.0  \n",
       "2         35.2  \n",
       "3         26.2  \n",
       "4         10.4  "
      ]
     },
     "execution_count": 24,
     "metadata": {},
     "output_type": "execute_result"
    }
   ],
   "source": [
    "df_3.head()"
   ]
  },
  {
   "cell_type": "markdown",
   "metadata": {},
   "source": [
    "## 2.数据分析"
   ]
  },
  {
   "cell_type": "markdown",
   "metadata": {},
   "source": [
    "### 2.1 特征变换"
   ]
  },
  {
   "cell_type": "code",
   "execution_count": 25,
   "metadata": {},
   "outputs": [
    {
     "data": {
      "image/png": "[encoded data removed]",
      "text/plain": [
       "<Figure size 432x288 with 2 Axes>"
      ]
     },
     "metadata": {
      "needs_background": "light"
     },
     "output_type": "display_data"
    }
   ],
   "source": [
    "# 了解一下平均旅行时间的分布\n",
    "fig,axes = plt.subplots(2,1)\n",
    "df_3['travel_time'].hist(bins=100,ax = axes[0])\n",
    "df_3['travel_time'] = np.log1p(df_3['travel_time'])\n",
    "df_3['travel_time'].hist(bins=100,ax=axes[1])\n",
    "plt.show()\n",
    "# 可以发现平均旅行时间变量是一个长尾数据分布，大部分数据集中在很小的区域，对数变换ln(x+1),避免x=0的情况"
   ]
  },
  {
   "cell_type": "markdown",
   "metadata": {},
   "source": [
    "### 2.2 数据平滑"
   ]
  },
  {
   "cell_type": "code",
   "execution_count": 26,
   "metadata": {},
   "outputs": [],
   "source": [
    "# 即使log变换后，还有部分travel_time过大或者过小，为了消除一些离群点的影响，对travel_time进行百分位剪裁\n",
    "def quantile_clip(group):\n",
    "    #group.plot()\n",
    "    group[group<group.quantile(0.05)] = group.quantile(0.05)\n",
    "    group[group>group.quantile(0.95)] = group.quantile(0.95)\n",
    "    #group.plot()\n",
    "    #plt.show()\n",
    "    return group"
   ]
  },
  {
   "cell_type": "code",
   "execution_count": 27,
   "metadata": {},
   "outputs": [],
   "source": [
    "df_3['travel_time'] = df_3.groupby(['link_ID','date'])['travel_time'].transform(quantile_clip)"
   ]
  },
  {
   "cell_type": "code",
   "execution_count": 28,
   "metadata": {},
   "outputs": [],
   "source": [
    "# 将date截取时间范围的前一刻\n",
    "df_3['time_interval_begin'] = pd.to_datetime(df_3['time_interval'].map(lambda x:x[1:20]))"
   ]
  },
  {
   "cell_type": "code",
   "execution_count": 29,
   "metadata": {},
   "outputs": [
    {
     "data": {
      "text/html": [
       "<div>\n",
       "<style scoped>\n",
       "    .dataframe tbody tr th:only-of-type {\n",
       "        vertical-align: middle;\n",
       "    }\n",
       "\n",
       "    .dataframe tbody tr th {\n",
       "        vertical-align: top;\n",
       "    }\n",
       "\n",
       "    .dataframe thead th {\n",
       "        text-align: right;\n",
       "    }\n",
       "</style>\n",
       "<table border=\"1\" class=\"dataframe\">\n",
       "  <thead>\n",
       "    <tr style=\"text-align: right;\">\n",
       "      <th></th>\n",
       "      <th>link_ID</th>\n",
       "      <th>date</th>\n",
       "      <th>time_interval</th>\n",
       "      <th>travel_time</th>\n",
       "      <th>time_interval_begin</th>\n",
       "    </tr>\n",
       "  </thead>\n",
       "  <tbody>\n",
       "    <tr>\n",
       "      <th>0</th>\n",
       "      <td>4377906283422600514</td>\n",
       "      <td>2017-05-06</td>\n",
       "      <td>[2017-05-06 11:04:00,2017-05-06 11:06:00)</td>\n",
       "      <td>1.386294</td>\n",
       "      <td>2017-05-06 11:04:00</td>\n",
       "    </tr>\n",
       "    <tr>\n",
       "      <th>1</th>\n",
       "      <td>3377906289434510514</td>\n",
       "      <td>2017-05-06</td>\n",
       "      <td>[2017-05-06 10:42:00,2017-05-06 10:44:00)</td>\n",
       "      <td>0.693147</td>\n",
       "      <td>2017-05-06 10:42:00</td>\n",
       "    </tr>\n",
       "    <tr>\n",
       "      <th>2</th>\n",
       "      <td>3377906285934510514</td>\n",
       "      <td>2017-05-06</td>\n",
       "      <td>[2017-05-06 11:56:00,2017-05-06 11:58:00)</td>\n",
       "      <td>3.589059</td>\n",
       "      <td>2017-05-06 11:56:00</td>\n",
       "    </tr>\n",
       "    <tr>\n",
       "      <th>3</th>\n",
       "      <td>3377906285934510514</td>\n",
       "      <td>2017-05-06</td>\n",
       "      <td>[2017-05-06 17:46:00,2017-05-06 17:48:00)</td>\n",
       "      <td>3.303217</td>\n",
       "      <td>2017-05-06 17:46:00</td>\n",
       "    </tr>\n",
       "    <tr>\n",
       "      <th>4</th>\n",
       "      <td>3377906287934510514</td>\n",
       "      <td>2017-05-06</td>\n",
       "      <td>[2017-05-06 10:52:00,2017-05-06 10:54:00)</td>\n",
       "      <td>2.251292</td>\n",
       "      <td>2017-05-06 10:52:00</td>\n",
       "    </tr>\n",
       "  </tbody>\n",
       "</table>\n",
       "</div>"
      ],
      "text/plain": [
       "               link_ID        date                              time_interval  \\\n",
       "0  4377906283422600514  2017-05-06  [2017-05-06 11:04:00,2017-05-06 11:06:00)   \n",
       "1  3377906289434510514  2017-05-06  [2017-05-06 10:42:00,2017-05-06 10:44:00)   \n",
       "2  3377906285934510514  2017-05-06  [2017-05-06 11:56:00,2017-05-06 11:58:00)   \n",
       "3  3377906285934510514  2017-05-06  [2017-05-06 17:46:00,2017-05-06 17:48:00)   \n",
       "4  3377906287934510514  2017-05-06  [2017-05-06 10:52:00,2017-05-06 10:54:00)   \n",
       "\n",
       "   travel_time time_interval_begin  \n",
       "0     1.386294 2017-05-06 11:04:00  \n",
       "1     0.693147 2017-05-06 10:42:00  \n",
       "2     3.589059 2017-05-06 11:56:00  \n",
       "3     3.303217 2017-05-06 17:46:00  \n",
       "4     2.251292 2017-05-06 10:52:00  "
      ]
     },
     "execution_count": 29,
     "metadata": {},
     "output_type": "execute_result"
    }
   ],
   "source": [
    "df_3.head()"
   ]
  },
  {
   "cell_type": "markdown",
   "metadata": {},
   "source": [
    "### 2.3 缺失值补全"
   ]
  },
  {
   "cell_type": "code",
   "execution_count": 30,
   "metadata": {},
   "outputs": [],
   "source": [
    "# 时间序列预测，需要根据前几个时刻的travel_time预测下一个时刻的travel_time，一定要将缺失值补全\n",
    "# 方法：训练已有的数据，把缺失的数据当做要预测的数据\n",
    "#原始的数据集中 ，缺失的时间序列是没有出现在数据集中的，需要手动插入，然后把travel_time用nan标识出来，需要找到这些缺失信息"
   ]
  },
  {
   "cell_type": "markdown",
   "metadata": {},
   "source": [
    "####  2.3.1 找到缺失值 "
   ]
  },
  {
   "cell_type": "code",
   "execution_count": 31,
   "metadata": {},
   "outputs": [],
   "source": [
    "# link_infos 存储道路的基本信息\n",
    "# data_range 用来获取完整的间隔时间\n",
    "# \n",
    "date_range = pd.date_range(\"2016-07-01 00:00:00\", \"2016-07-31 23:58:00\", freq='2min').append(\n",
    "    pd.date_range(\"2017-04-01 00:00:00\", \"2017-07-31 23:58:00\", freq='2min'))\n",
    "\n",
    "new_index = pd.MultiIndex.from_product([link_infos['link_ID'].unique(),date_range],names = ['link_ID','time_interval_begin'])\n",
    "df1 = pd.DataFrame(index = new_index).reset_index()\n",
    "df3 = pd.merge(df1,df_3,on=['link_ID','time_interval_begin'],how='left')"
   ]
  },
  {
   "cell_type": "code",
   "execution_count": 32,
   "metadata": {},
   "outputs": [],
   "source": [
    "# 因为要预测的是2017年每月的第8，15，18小时，认为每个时段的前两个小时的数据比较重要\n",
    "# 只选择每天6，7，8，13，14，15，16，17，18小时，然后去掉2017年7月每天的第8，15，18小时\n",
    "df3 = df3.loc[(df3['time_interval_begin'].dt.hour.isin([6, 7, 8, 13, 14, 15, 16, 17, 18]))]\n",
    "df3 = df3.loc[~((df3['time_interval_begin'].dt.year == 2017) & (df3['time_interval_begin'].dt.month == 7) & (\n",
    "    df3['time_interval_begin'].dt.hour.isin([8, 15, 18])))]\n",
    "\n",
    "df3['date'] = df3['time_interval_begin'].dt.strftime('%Y-%m-%d')\n",
    "\n",
    "#df3.loc[df3['travel_time'].isnull() == True].groupby('date')['link_ID'].count()\n",
    "\n",
    "df_miss_date = df3.loc[df3['travel_time'].isnull() == True].groupby('date')['link_ID'].count()\n",
    "#plt.show()\n"
   ]
  },
  {
   "cell_type": "code",
   "execution_count": 42,
   "metadata": {},
   "outputs": [
    {
     "data": {
      "text/plain": [
       "153"
      ]
     },
     "execution_count": 42,
     "metadata": {},
     "output_type": "execute_result"
    }
   ],
   "source": [
    "len(df_miss_date)"
   ]
  },
  {
   "cell_type": "code",
   "execution_count": 47,
   "metadata": {},
   "outputs": [
    {
     "data": {
      "image/png": "[encoded data removed]",
      "text/plain": [
       "<Figure size 432x288 with 1 Axes>"
      ]
     },
     "metadata": {
      "needs_background": "light"
     },
     "output_type": "display_data"
    }
   ],
   "source": [
    "df_miss_date.plot(xticks=list(range(0,153,30)))\n",
    "plt.show()"
   ]
  },
  {
   "cell_type": "code",
   "execution_count": 48,
   "metadata": {},
   "outputs": [],
   "source": [
    "# 可以看出2016年7月的数据缺失较多，并且2016年7月距离2017年4月中间相隔好几个月，不连续\n",
    "# 一个更好的办法是用2017年3月份的数据代替2016年7月份的数据，即用2017年3，4，5，6四个月的数据预测7月份的数据\n",
    "link_travel_time_part2_path = '../data/gy_link_travel_time_part2.txt'\n",
    "df_2 = pd.read_csv(link_travel_time_part2_path,delimiter=';',dtype={'link_ID':object})\n",
    "# 这个之后在代码中显示"
   ]
  },
  {
   "cell_type": "markdown",
   "metadata": {},
   "source": [
    "### 接下来要做的是补全缺失值，其中需要考虑到季节性趋势 和 天的趋势，然后利用lightGBM预测缺失值，但是首先要做的是处理数据，根据之前的分析结果，需要合并数据，利用2017年3，4，5，6四个月的数据预测7月份的数据"
   ]
  },
  {
   "cell_type": "code",
   "execution_count": null,
   "metadata": {},
   "outputs": [],
   "source": []
  }
 ],
 "metadata": {
  "kernelspec": {
   "display_name": "Python 3",
   "language": "python",
   "name": "python3"
  },
  "language_info": {
   "codemirror_mode": {
    "name": "ipython",
    "version": 3
   },
   "file_extension": ".py",
   "mimetype": "text/x-python",
   "name": "python",
   "nbconvert_exporter": "python",
   "pygments_lexer": "ipython3",
   "version": "3.6.8"
  }
 },
 "nbformat": 4,
 "nbformat_minor": 2
}
